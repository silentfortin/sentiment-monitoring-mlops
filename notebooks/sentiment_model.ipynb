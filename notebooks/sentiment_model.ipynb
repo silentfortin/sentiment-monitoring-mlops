{
 "cells": [
  {
   "cell_type": "markdown",
   "id": "e421cfb0",
   "metadata": {},
   "source": [
    "Phase 1 – Implementation of the Sentiment Analysis Model\n",
    "\n",
    "In this phase, the pre-trained model\n",
    "cardiffnlp/twitter-roberta-base-sentiment-latest (based on RoBERTa)\n",
    "was used to analyze texts collected from social media.\n",
    "\n",
    "The chosen dataset is TweetEval (sentiment) from HuggingFace, which contains tweets\n",
    "labeled as positive, neutral, or negative.\n",
    "\n",
    "After a light text preprocessing step, the model was tested on the test split.\n",
    "The achieved accuracy is approximately 0.68, which is consistent with the expected performance of this model."
   ]
  },
  {
   "cell_type": "code",
   "execution_count": 2,
   "id": "447e7d38",
   "metadata": {},
   "outputs": [
    {
     "name": "stderr",
     "output_type": "stream",
     "text": [
      "c:\\Users\\cogli\\Desktop\\sentiment-monitoring-mlops\\.venv\\Lib\\site-packages\\tqdm\\auto.py:21: TqdmWarning: IProgress not found. Please update jupyter and ipywidgets. See https://ipywidgets.readthedocs.io/en/stable/user_install.html\n",
      "  from .autonotebook import tqdm as notebook_tqdm\n"
     ]
    }
   ],
   "source": [
    "import sys\n",
    "import os\n",
    "import torch\n",
    "import evaluate\n",
    "\n",
    "# Add project root (one level up) to PYTHONPATH\n",
    "sys.path.append(os.path.abspath(os.path.join(os.getcwd(), \"..\")))\n",
    "\n",
    "from datasets import load_dataset\n",
    "from transformers import pipeline, AutoTokenizer, AutoModelForSequenceClassification,  AutoConfig\n",
    "from src.preprocess import preprocess_texts\n"
   ]
  },
  {
   "cell_type": "code",
   "execution_count": 10,
   "id": "52e09aee",
   "metadata": {},
   "outputs": [],
   "source": [
    "device = 0 if torch.cuda.is_available() else -1"
   ]
  },
  {
   "cell_type": "code",
   "execution_count": 4,
   "id": "4add8a3c",
   "metadata": {},
   "outputs": [],
   "source": [
    "MODEL = f\"cardiffnlp/twitter-roberta-base-sentiment-latest\""
   ]
  },
  {
   "cell_type": "code",
   "execution_count": 5,
   "id": "fbb74a9a",
   "metadata": {},
   "outputs": [
    {
     "name": "stderr",
     "output_type": "stream",
     "text": [
      "Some weights of the model checkpoint at cardiffnlp/twitter-roberta-base-sentiment-latest were not used when initializing RobertaForSequenceClassification: ['roberta.pooler.dense.bias', 'roberta.pooler.dense.weight']\n",
      "- This IS expected if you are initializing RobertaForSequenceClassification from the checkpoint of a model trained on another task or with another architecture (e.g. initializing a BertForSequenceClassification model from a BertForPreTraining model).\n",
      "- This IS NOT expected if you are initializing RobertaForSequenceClassification from the checkpoint of a model that you expect to be exactly identical (initializing a BertForSequenceClassification model from a BertForSequenceClassification model).\n"
     ]
    }
   ],
   "source": [
    "tokenizer = AutoTokenizer.from_pretrained(MODEL)\n",
    "model = AutoModelForSequenceClassification.from_pretrained(MODEL, use_safetensors=True)\n",
    "config = AutoConfig.from_pretrained(MODEL)"
   ]
  },
  {
   "cell_type": "code",
   "execution_count": 6,
   "id": "7902ae48",
   "metadata": {},
   "outputs": [],
   "source": [
    "dataset = load_dataset(\"tweet_eval\", \"sentiment\")\n",
    "\n",
    "def preprocess_batch(batch):\n",
    "    batch[\"text\"] = preprocess_texts(batch[\"text\"])\n",
    "    return batch\n",
    "\n",
    "cleaned_ds = dataset.map(preprocess_batch, batched=True)"
   ]
  },
  {
   "cell_type": "code",
   "execution_count": 7,
   "id": "0560e148",
   "metadata": {},
   "outputs": [
    {
     "name": "stdout",
     "output_type": "stream",
     "text": [
      "DatasetDict({\n",
      "    train: Dataset({\n",
      "        features: ['text', 'label'],\n",
      "        num_rows: 45615\n",
      "    })\n",
      "    test: Dataset({\n",
      "        features: ['text', 'label'],\n",
      "        num_rows: 12284\n",
      "    })\n",
      "    validation: Dataset({\n",
      "        features: ['text', 'label'],\n",
      "        num_rows: 2000\n",
      "    })\n",
      "})\n"
     ]
    }
   ],
   "source": [
    "print(dataset)"
   ]
  },
  {
   "cell_type": "code",
   "execution_count": null,
   "id": "af3b31d4",
   "metadata": {},
   "outputs": [],
   "source": [
    "test_ds = cleaned_ds[\"test\"]\n",
    "texts = list(test_ds[\"text\"])\n",
    "true_labels = list(test_ds[\"label\"])"
   ]
  },
  {
   "cell_type": "code",
   "execution_count": 22,
   "id": "d39ea5d2",
   "metadata": {},
   "outputs": [
    {
     "name": "stdout",
     "output_type": "stream",
     "text": [
      "2\n"
     ]
    }
   ],
   "source": [
    "print(len(test_ds))"
   ]
  },
  {
   "cell_type": "code",
   "execution_count": 11,
   "id": "d2c26924",
   "metadata": {},
   "outputs": [
    {
     "name": "stderr",
     "output_type": "stream",
     "text": [
      "Device set to use cuda:0\n"
     ]
    }
   ],
   "source": [
    "sentiment_task = pipeline(\"sentiment-analysis\", model=model, tokenizer=tokenizer, device=device)\n",
    "preds = sentiment_task(texts)"
   ]
  },
  {
   "cell_type": "code",
   "execution_count": 15,
   "id": "0b8943ba",
   "metadata": {},
   "outputs": [
    {
     "name": "stdout",
     "output_type": "stream",
     "text": [
      "Accuracy: 0.6838977531748616\n"
     ]
    }
   ],
   "source": [
    "from sklearn.metrics import accuracy_score\n",
    "\n",
    "pred_labels = [pred[\"label\"] for pred in preds]\n",
    "label_map = {\"negative\": 0, \"neutral\": 1, \"positive\": 2}\n",
    "\n",
    "pred_encoded = [label_map[p_lab] for p_lab in pred_labels]\n",
    "print(\"Accuracy:\", accuracy_score(true_labels, pred_encoded))\n"
   ]
  }
 ],
 "metadata": {
  "kernelspec": {
   "display_name": ".venv (3.12.10)",
   "language": "python",
   "name": "python3"
  },
  "language_info": {
   "codemirror_mode": {
    "name": "ipython",
    "version": 3
   },
   "file_extension": ".py",
   "mimetype": "text/x-python",
   "name": "python",
   "nbconvert_exporter": "python",
   "pygments_lexer": "ipython3",
   "version": "3.12.10"
  }
 },
 "nbformat": 4,
 "nbformat_minor": 5
}
